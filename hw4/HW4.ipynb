{
 "cells": [
  {
   "cell_type": "code",
   "execution_count": 35,
   "metadata": {},
   "outputs": [
    {
     "name": "stderr",
     "output_type": "stream",
     "text": [
      "[nltk_data] Downloading package stopwords to\n",
      "[nltk_data]     C:\\Users\\user\\AppData\\Roaming\\nltk_data...\n",
      "[nltk_data]   Package stopwords is already up-to-date!\n",
      "[nltk_data] Downloading package punkt to\n",
      "[nltk_data]     C:\\Users\\user\\AppData\\Roaming\\nltk_data...\n",
      "[nltk_data]   Package punkt is already up-to-date!\n"
     ]
    }
   ],
   "source": [
    "import requests\n",
    "import json\n",
    "import gravis as gv\n",
    "import bs4\n",
    "import requests\n",
    "from xmltodict import parse\n",
    "import nltk\n",
    "from nltk.tokenize import sent_tokenize, word_tokenize\n",
    "import re\n",
    "from sklearn.feature_extraction.text import CountVectorizer\n",
    "nltk.download('stopwords')\n",
    "nltk.download('punkt')\n",
    "from nltk.corpus import stopwords\n",
    "from sklearn.linear_model import LogisticRegression\n",
    "from sklearn.metrics import accuracy_score\n",
    "from sklearn.metrics import confusion_matrix\n",
    "from sklearn.model_selection import train_test_split\n",
    "from sklearn import metrics\n",
    "import matplotlib.pyplot as plt\n",
    "import numpy as np\n",
    "import pandas as pd\n",
    "import networkx as nx\n",
    "from collections import defaultdict\n",
    "from itertools import combinations\n",
    "import zipfile\n",
    "import librosa\n",
    "import io\n",
    "import os\n",
    "import glob\n",
    "from sklearn.naive_bayes import GaussianNB\n",
    "import seaborn as sns"
   ]
  },
  {
   "cell_type": "markdown",
   "metadata": {},
   "source": [
    "# HOMEWORK 4\n",
    "## Q1 (Author attribution)\n",
    "\n",
    "For this question we are going to use two novels:\n",
    "- [Jayne Eyre](https://www.gutenberg.org/ebooks/1260) by Charlotte Bronte, and\n",
    "- [Pride and Prejudice](https://www.gutenberg.org/ebooks/1342) by Jane Austen.\n",
    "\n",
    "1. Get the novels' plain text versions and remove all the parts which do not belong to the novels.\n",
    "2. Using NLTK's sentence tokenizers, tokenize each novel.\n",
    "3. Label sentences by 0 or 1 depending on whether the sentence is written by Austen or Bronte, and then merge the two sentence data sets.\n",
    "4. Vectorize the merged sentence dataset. (Tell the vectorizer to remove all stop words.)\n",
    "5. Split the vectorized sentences and labels as train and test. Use the 25% of the data as test.\n",
    "6. Train a logistic regression model on the train subset.\n",
    "7. Using the model you trained, predict labels on the test set, and then construct a confusion matrix.\n",
    "8. Can your model distinguish sentences written by Bronte or Austen? Analyze."
   ]
  },
  {
   "cell_type": "markdown",
   "metadata": {},
   "source": [
    "## Q1-ANSWER"
   ]
  },
  {
   "cell_type": "markdown",
   "metadata": {},
   "source": [
    "For this question, we are gonna get the novels' plain text. As there are two novels, we can define a function for pulling process:"
   ]
  },
  {
   "cell_type": "code",
   "execution_count": 2,
   "metadata": {},
   "outputs": [],
   "source": [
    "def get_gutenberg_text(url):\n",
    "    response = requests.get(url)\n",
    "    soup = bs4.BeautifulSoup(response.content, \"html.parser\")\n",
    "    text = soup.text\n",
    "    response.close()\n",
    "    return text"
   ]
  },
  {
   "cell_type": "code",
   "execution_count": 3,
   "metadata": {},
   "outputs": [],
   "source": [
    "\n",
    "jane_eyre = get_gutenberg_text(\"https://www.gutenberg.org/cache/epub/1260/pg1260.txt\")\n",
    "pride_pre = get_gutenberg_text(\"https://www.gutenberg.org/cache/epub/1342/pg1342.txt\")"
   ]
  },
  {
   "cell_type": "markdown",
   "metadata": {},
   "source": [
    "Now, as we only need the plain novel, we take only necessary parts:"
   ]
  },
  {
   "cell_type": "code",
   "execution_count": 4,
   "metadata": {},
   "outputs": [],
   "source": [
    "je_plain = jane_eyre.split('_April_ 13_th_, 1848.')[1].split('*** END OF THE PROJECT GUTENBERG EBOOK JANE EYRE: AN AUTOBIOGRAPHY ***')[0]"
   ]
  },
  {
   "cell_type": "code",
   "execution_count": 5,
   "metadata": {},
   "outputs": [],
   "source": [
    "pride_pre_plain = 'It is a truth universally acknowledged '+pride_pre.split('It is a truth universally acknowledged')[1].split('*** END OF THE PROJECT GUTENBERG EBOOK PRIDE AND PREJUDICE ***')[0]"
   ]
  },
  {
   "cell_type": "markdown",
   "metadata": {},
   "source": [
    "Now, cleaned unnecessary signs etc"
   ]
  },
  {
   "cell_type": "code",
   "execution_count": 6,
   "metadata": {},
   "outputs": [],
   "source": [
    "je_cleaned = re.sub(r'\\[([^\\]]+)\\]|\\r|\\n','', je_plain.lower())\n",
    "pride_pre_cleaned = re.sub(r'\\[([^\\]]+)\\]|\\r|\\n','', pride_pre_plain.lower())\n"
   ]
  },
  {
   "cell_type": "markdown",
   "metadata": {},
   "source": [
    "Then tokenize each novel by sentence:"
   ]
  },
  {
   "cell_type": "code",
   "execution_count": 7,
   "metadata": {},
   "outputs": [],
   "source": [
    "je_tokenized = sent_tokenize(je_cleaned)\n",
    "pride_tokenized = sent_tokenize(pride_pre_cleaned)\n"
   ]
  },
  {
   "cell_type": "markdown",
   "metadata": {},
   "source": [
    "Merged all sentences in idct so that sentences belongs to pride and prejudice have value 0, jane eyre will be 1, then split the data as a train and test with size 0.25 :"
   ]
  },
  {
   "cell_type": "code",
   "execution_count": 8,
   "metadata": {},
   "outputs": [],
   "source": [
    "sent_all = {i: 0 if i in pride_tokenized else 1 for i in set(pride_tokenized + je_tokenized)}\n",
    "texts = list(sent_all.keys())\n",
    "labels = list(sent_all.values())"
   ]
  },
  {
   "cell_type": "code",
   "execution_count": 9,
   "metadata": {},
   "outputs": [],
   "source": [
    "X_train, X_test, y_train, y_test = train_test_split(texts, labels, test_size=0.25, random_state=42)"
   ]
  },
  {
   "cell_type": "markdown",
   "metadata": {},
   "source": [
    "Removed stopwords, vectorize and train a logistic regression model for classification. \n",
    "\n",
    "Then, make prediction with test set and see the accuracy:"
   ]
  },
  {
   "cell_type": "code",
   "execution_count": 10,
   "metadata": {},
   "outputs": [
    {
     "name": "stdout",
     "output_type": "stream",
     "text": [
      "Accuracy: 0.8473214285714286\n"
     ]
    }
   ],
   "source": [
    "stop_words = set(stopwords.words('english'))\n",
    "vectorizer = CountVectorizer(stop_words=stop_words)\n",
    "X_train = vectorizer.fit_transform(X_train)\n",
    "X_test = vectorizer.transform(X_test)\n",
    "\n",
    "classifier = LogisticRegression()\n",
    "classifier.fit(X_train, y_train)\n",
    "\n",
    "y_pred = classifier.predict(X_test)\n",
    "\n",
    "accuracy = accuracy_score(y_test, y_pred)\n",
    "print(\"Accuracy:\", accuracy)"
   ]
  },
  {
   "cell_type": "markdown",
   "metadata": {},
   "source": [
    "Now, create a confusion matrix and analyse the result:"
   ]
  },
  {
   "cell_type": "code",
   "execution_count": 11,
   "metadata": {},
   "outputs": [
    {
     "data": {
      "image/png": "[encoded data removed]",
      "text/plain": [
       "<Figure size 432x288 with 2 Axes>"
      ]
     },
     "metadata": {
      "needs_background": "light"
     },
     "output_type": "display_data"
    }
   ],
   "source": [
    "cm = metrics.confusion_matrix(y_test,y_pred)\n",
    "cm_display = metrics.ConfusionMatrixDisplay(confusion_matrix = cm, display_labels = ['Austen', 'Bronte'])\n",
    "cm_display.plot()\n",
    "plt.show()"
   ]
  },
  {
   "cell_type": "markdown",
   "metadata": {},
   "source": [
    "As we can see above, from confusion matrix, the model predict approximately 80% of Austen's sentences and 90% of Bronte's sentences correctly. Thus, we can say that our model can distinguish most of the sentence's owners correctly. I believe that by making manipulations on text data a bit more, we can achieve higher accuracy scores."
   ]
  },
  {
   "cell_type": "markdown",
   "metadata": {},
   "source": [
    "## Q2 (Voice recognition)\n",
    "\n",
    "For this question we are going to use the [Axiom voice recognition dataset](https://zenodo.org/records/1218979). The voice data contains data for 73 individuals. Since the dataset is fairly large, do not commit your local copy to github.\n",
    "\n",
    "1. Build machine learning models that distinguish these individuals.\n",
    "2. Test your model(s) and calculate their accuracies.\n",
    "3. Construct and display confusion matrix or matrices."
   ]
  },
  {
   "cell_type": "markdown",
   "metadata": {},
   "source": [
    "## Q2-ANSWER\n",
    "I pulled the related data, then used Gaussian Naive Bayes classifier."
   ]
  },
  {
   "cell_type": "code",
   "execution_count": 28,
   "metadata": {},
   "outputs": [],
   "source": [
    "try:\n",
    "    response_vd = requests.get(\"https://zenodo.org/api/records/1218979/files\")\n",
    "    response_vd.raise_for_status()  # Raises an exception for HTTP errors (4xx or 5xx)\n",
    "    \n",
    "    # Verify content and handle JSON parsing\n",
    "    if response_vd.ok:\n",
    "        json_content = response_vd.json()\n",
    "        # Process the JSON data\n",
    "        \n",
    "except requests.HTTPError as http_err:\n",
    "    print(f\"HTTP error occurred: {http_err}\")\n",
    "    \n",
    "except ValueError as val_err:\n",
    "    print(f\"Value error while decoding JSON: {val_err}\")\n",
    "    \n",
    "except Exception as err:\n",
    "    print(f\"An error occurred: {err}\")\n"
   ]
  },
  {
   "cell_type": "code",
   "execution_count": 29,
   "metadata": {},
   "outputs": [
    {
     "data": {
      "text/plain": [
       "'https://zenodo.org/api/records/1218979/files/AXIOM%20audio.zip/content'"
      ]
     },
     "execution_count": 29,
     "metadata": {},
     "output_type": "execute_result"
    }
   ],
   "source": [
    "audio_urls = json_content['entries'][0]['links']['content']\n",
    "audio_urls"
   ]
  },
  {
   "cell_type": "code",
   "execution_count": 30,
   "metadata": {},
   "outputs": [
    {
     "name": "stdout",
     "output_type": "stream",
     "text": [
      "ZIP succesfully downloaded\n"
     ]
    }
   ],
   "source": [
    "response = requests.get(audio_urls)\n",
    "\n",
    "if response.status_code == 200:\n",
    "    # create a folder object to extract files\n",
    "    with zipfile.ZipFile(io.BytesIO(response.content)) as zip_ref:\n",
    "        # extract the content\n",
    "        zip_ref.extractall('audio_files')\n",
    "        print(\"ZIP succesfully downloaded\")\n",
    "else:\n",
    "    print(\"http error:\", response.status_code)"
   ]
  },
  {
   "cell_type": "code",
   "execution_count": 31,
   "metadata": {},
   "outputs": [
    {
     "name": "stdout",
     "output_type": "stream",
     "text": [
      "All:\n",
      "AXIOM audio\n",
      "__MACOSX\n"
     ]
    }
   ],
   "source": [
    "dosya_listesi = os.listdir('audio_files')\n",
    "\n",
    "print(\"All:\")\n",
    "for dosya in dosya_listesi:\n",
    "    print(dosya)"
   ]
  },
  {
   "cell_type": "code",
   "execution_count": 32,
   "metadata": {},
   "outputs": [],
   "source": [
    "audio_directory = os.path.join('audio_files', 'AXIOM audio')\n"
   ]
  },
  {
   "cell_type": "markdown",
   "metadata": {},
   "source": [
    "Took all files with wav extension:"
   ]
  },
  {
   "cell_type": "code",
   "execution_count": 33,
   "metadata": {},
   "outputs": [],
   "source": [
    "wav_files = glob.glob(os.path.join(audio_directory, '**/*.wav'), recursive=True)"
   ]
  },
  {
   "cell_type": "markdown",
   "metadata": {},
   "source": [
    "Stored person id's in label list:"
   ]
  },
  {
   "cell_type": "code",
   "execution_count": 34,
   "metadata": {},
   "outputs": [],
   "source": [
    "file_names = []\n",
    "label = []\n",
    "\n",
    "# Extracting and storing the required information\n",
    "for wav_file in wav_files:\n",
    "    file_name = os.path.basename(wav_file)  # Extract the file name\n",
    "    file_names.append(file_name)  # Store the file name\n",
    "    \n",
    "    # Extracting the first element between the first two underscores\n",
    "    first_element = file_name.split('_')[1]  # Splitting the file name by underscores and extracting the second element\n",
    "    label.append(first_element)"
   ]
  },
  {
   "cell_type": "code",
   "execution_count": 36,
   "metadata": {},
   "outputs": [
    {
     "name": "stdout",
     "output_type": "stream",
     "text": [
      "Accuracy: 82.42%\n"
     ]
    },
    {
     "data": {
      "image/png": "[encoded data removed]",
      "text/plain": [
       "<Figure size 576x432 with 2 Axes>"
      ]
     },
     "metadata": {
      "needs_background": "light"
     },
     "output_type": "display_data"
    }
   ],
   "source": [
    "x=wav_files\n",
    "# Function to extract features from audio files\n",
    "def extract_features(file_path):\n",
    "    # Load audio file\n",
    "    audio_data, _ = librosa.load(file_path, sr=None)\n",
    "    # Extract MFCC (Mel-frequency cepstral coefficients) as features\n",
    "    mfccs = librosa.feature.mfcc(y=audio_data, sr=44100, n_mfcc=20)\n",
    "    # Return the mean value of MFCC coefficients as features\n",
    "    return np.mean(mfccs.T, axis=0)\n",
    "\n",
    "# Extracting features and labels\n",
    "features = []\n",
    "labels = label  # label contains labels\n",
    "\n",
    "for file_path in x:\n",
    "    file_features = extract_features(file_path)\n",
    "    features.append(file_features)\n",
    "\n",
    "# Convert lists to numpy arrays\n",
    "features = np.array(features)\n",
    "labels = np.array(labels)\n",
    "\n",
    "# Split the dataset into training and testing sets\n",
    "X_train, X_test, y_train, y_test = train_test_split(features, labels, test_size=0.2, random_state=42)\n",
    "\n",
    "# Initialize the model (Gaussian Naive Bayes classifier)\n",
    "model = GaussianNB()\n",
    "\n",
    "# Train the model\n",
    "model.fit(X_train, y_train)\n",
    "\n",
    "# Predict on the test set\n",
    "predictions = model.predict(X_test)\n",
    "\n",
    "# Calculate accuracy\n",
    "accuracy = accuracy_score(y_test, predictions)\n",
    "print(f\"Accuracy: {accuracy * 100:.2f}%\")\n",
    "\n",
    "cm = confusion_matrix(y_test, predictions)\n",
    "\n",
    "# Plot confusion matrix\n",
    "plt.figure(figsize=(8, 6))\n",
    "sns.heatmap(cm, annot=True, fmt=\"d\", cmap=\"Blues\")\n",
    "plt.xlabel('Predicted')\n",
    "plt.ylabel('True')\n",
    "plt.title('Confusion Matrix')\n",
    "plt.show()"
   ]
  },
  {
   "cell_type": "markdown",
   "metadata": {},
   "source": [
    "## Q3 (City hopping)\n",
    "\n",
    "For this question we are going to use [Open Flight Data](https://openflights.org/data.php).\n",
    "\n",
    "1. Pull the data on airports and routes. Clean it and put the correct names on columns. Read the [documentation on the data](https://openflights.org/data.php).\n",
    "2. Merge the route dataset and the airport dataset so the combined version has route source and target airports has full airport names and cities instead of airport codes.\n",
    "3. Construct a graph where each node is a city, and two cities are connected by an edge if there is a flight between these cities.\n",
    "4. Find the flight routes with the minimal number of stops for the following source and target cities. For example, a route that has the minimal number of connections/stops from Antalya to Deer Lake (Canada) is Antalya, London, Halifax, Deer Lake.\n",
    "   - From Adana (Turkey) to Auckland (New Zealand)\n",
    "   - From Ankara (Turkey) to Kona (Hawaii, USA)\n",
    "   - From Sydney (Australia) to Churchhill (Canada)\n",
    "5. Using the networkx's implementation of the [Page Rank Algorithm](https://en.wikipedia.org/wiki/PageRank) find the top 10 cities that are important for the global flight network."
   ]
  },
  {
   "cell_type": "markdown",
   "metadata": {},
   "source": [
    "## Q3-ANSWER"
   ]
  },
  {
   "cell_type": "markdown",
   "metadata": {},
   "source": [
    "For this question, first we are gonna pull the data on airports and routes,clean it and put the correct names on columns:"
   ]
  },
  {
   "cell_type": "code",
   "execution_count": 2,
   "metadata": {},
   "outputs": [],
   "source": [
    "\n",
    "airports_link = \"https://raw.githubusercontent.com/jpatokal/openflights/master/data/airports.dat\"\n",
    "routes_link = \"https://raw.githubusercontent.com/jpatokal/openflights/master/data/routes.dat\"\n",
    "\n",
    "airports_colnames=[\"Airport_ID\",\"City\",\"Country\",\"IATA\",\"ICAO\",\"Latitude\",\"Longitude\",\"Altitude\",\"Timezone\",\"DST\",\"Tz_database_timezone\",\"Type\",\"Source\"]\n",
    "routes_colnames=[\"Airline\",\"Airline_ID\",\"Source_airport\",\"Source_airport_ID\",\"Destination_airport\",\"Destination_airport_ID\",\"Codeshare\",\"Stops\",\"Equipment\"]\n",
    "\n",
    "airport_df = pd.read_csv(airports_link, names = airports_colnames)\n",
    "routes_df = pd.read_csv(routes_link, names = routes_colnames)\n"
   ]
  },
  {
   "cell_type": "markdown",
   "metadata": {},
   "source": [
    "dropped unnecessary columns, take necessaary columns:"
   ]
  },
  {
   "cell_type": "code",
   "execution_count": 3,
   "metadata": {},
   "outputs": [],
   "source": [
    "routes_df.drop(['Airline','Airline_ID','Codeshare','Equipment'],axis=1,inplace=True)"
   ]
  },
  {
   "cell_type": "code",
   "execution_count": 4,
   "metadata": {},
   "outputs": [
    {
     "data": {
      "text/html": [
       "<div>\n",
       "<style scoped>\n",
       "    .dataframe tbody tr th:only-of-type {\n",
       "        vertical-align: middle;\n",
       "    }\n",
       "\n",
       "    .dataframe tbody tr th {\n",
       "        vertical-align: top;\n",
       "    }\n",
       "\n",
       "    .dataframe thead th {\n",
       "        text-align: right;\n",
       "    }\n",
       "</style>\n",
       "<table border=\"1\" class=\"dataframe\">\n",
       "  <thead>\n",
       "    <tr style=\"text-align: right;\">\n",
       "      <th></th>\n",
       "      <th>Source_airport</th>\n",
       "      <th>Source_airport_ID</th>\n",
       "      <th>Destination_airport</th>\n",
       "      <th>Destination_airport_ID</th>\n",
       "      <th>Stops</th>\n",
       "    </tr>\n",
       "  </thead>\n",
       "  <tbody>\n",
       "    <tr>\n",
       "      <th>0</th>\n",
       "      <td>AER</td>\n",
       "      <td>2965</td>\n",
       "      <td>KZN</td>\n",
       "      <td>2990</td>\n",
       "      <td>0</td>\n",
       "    </tr>\n",
       "    <tr>\n",
       "      <th>1</th>\n",
       "      <td>ASF</td>\n",
       "      <td>2966</td>\n",
       "      <td>KZN</td>\n",
       "      <td>2990</td>\n",
       "      <td>0</td>\n",
       "    </tr>\n",
       "    <tr>\n",
       "      <th>2</th>\n",
       "      <td>ASF</td>\n",
       "      <td>2966</td>\n",
       "      <td>MRV</td>\n",
       "      <td>2962</td>\n",
       "      <td>0</td>\n",
       "    </tr>\n",
       "    <tr>\n",
       "      <th>3</th>\n",
       "      <td>CEK</td>\n",
       "      <td>2968</td>\n",
       "      <td>KZN</td>\n",
       "      <td>2990</td>\n",
       "      <td>0</td>\n",
       "    </tr>\n",
       "    <tr>\n",
       "      <th>4</th>\n",
       "      <td>CEK</td>\n",
       "      <td>2968</td>\n",
       "      <td>OVB</td>\n",
       "      <td>4078</td>\n",
       "      <td>0</td>\n",
       "    </tr>\n",
       "  </tbody>\n",
       "</table>\n",
       "</div>"
      ],
      "text/plain": [
       "  Source_airport Source_airport_ID Destination_airport Destination_airport_ID  \\\n",
       "0            AER              2965                 KZN                   2990   \n",
       "1            ASF              2966                 KZN                   2990   \n",
       "2            ASF              2966                 MRV                   2962   \n",
       "3            CEK              2968                 KZN                   2990   \n",
       "4            CEK              2968                 OVB                   4078   \n",
       "\n",
       "   Stops  \n",
       "0      0  \n",
       "1      0  \n",
       "2      0  \n",
       "3      0  \n",
       "4      0  "
      ]
     },
     "execution_count": 4,
     "metadata": {},
     "output_type": "execute_result"
    }
   ],
   "source": [
    "routes_df.head()"
   ]
  },
  {
   "cell_type": "code",
   "execution_count": 5,
   "metadata": {},
   "outputs": [
    {
     "data": {
      "text/html": [
       "<div>\n",
       "<style scoped>\n",
       "    .dataframe tbody tr th:only-of-type {\n",
       "        vertical-align: middle;\n",
       "    }\n",
       "\n",
       "    .dataframe tbody tr th {\n",
       "        vertical-align: top;\n",
       "    }\n",
       "\n",
       "    .dataframe thead th {\n",
       "        text-align: right;\n",
       "    }\n",
       "</style>\n",
       "<table border=\"1\" class=\"dataframe\">\n",
       "  <thead>\n",
       "    <tr style=\"text-align: right;\">\n",
       "      <th></th>\n",
       "      <th>Airport_ID</th>\n",
       "      <th>City</th>\n",
       "      <th>Country</th>\n",
       "      <th>IATA</th>\n",
       "      <th>ICAO</th>\n",
       "    </tr>\n",
       "  </thead>\n",
       "  <tbody>\n",
       "    <tr>\n",
       "      <th>1</th>\n",
       "      <td>Goroka Airport</td>\n",
       "      <td>Goroka</td>\n",
       "      <td>Papua New Guinea</td>\n",
       "      <td>GKA</td>\n",
       "      <td>AYGA</td>\n",
       "    </tr>\n",
       "    <tr>\n",
       "      <th>2</th>\n",
       "      <td>Madang Airport</td>\n",
       "      <td>Madang</td>\n",
       "      <td>Papua New Guinea</td>\n",
       "      <td>MAG</td>\n",
       "      <td>AYMD</td>\n",
       "    </tr>\n",
       "    <tr>\n",
       "      <th>3</th>\n",
       "      <td>Mount Hagen Kagamuga Airport</td>\n",
       "      <td>Mount Hagen</td>\n",
       "      <td>Papua New Guinea</td>\n",
       "      <td>HGU</td>\n",
       "      <td>AYMH</td>\n",
       "    </tr>\n",
       "    <tr>\n",
       "      <th>4</th>\n",
       "      <td>Nadzab Airport</td>\n",
       "      <td>Nadzab</td>\n",
       "      <td>Papua New Guinea</td>\n",
       "      <td>LAE</td>\n",
       "      <td>AYNZ</td>\n",
       "    </tr>\n",
       "    <tr>\n",
       "      <th>5</th>\n",
       "      <td>Port Moresby Jacksons International Airport</td>\n",
       "      <td>Port Moresby</td>\n",
       "      <td>Papua New Guinea</td>\n",
       "      <td>POM</td>\n",
       "      <td>AYPY</td>\n",
       "    </tr>\n",
       "    <tr>\n",
       "      <th>...</th>\n",
       "      <td>...</td>\n",
       "      <td>...</td>\n",
       "      <td>...</td>\n",
       "      <td>...</td>\n",
       "      <td>...</td>\n",
       "    </tr>\n",
       "    <tr>\n",
       "      <th>14106</th>\n",
       "      <td>Rogachyovo Air Base</td>\n",
       "      <td>Belaya</td>\n",
       "      <td>Russia</td>\n",
       "      <td>\\N</td>\n",
       "      <td>ULDA</td>\n",
       "    </tr>\n",
       "    <tr>\n",
       "      <th>14107</th>\n",
       "      <td>Ulan-Ude East Airport</td>\n",
       "      <td>Ulan Ude</td>\n",
       "      <td>Russia</td>\n",
       "      <td>\\N</td>\n",
       "      <td>XIUW</td>\n",
       "    </tr>\n",
       "    <tr>\n",
       "      <th>14108</th>\n",
       "      <td>Krechevitsy Air Base</td>\n",
       "      <td>Novgorod</td>\n",
       "      <td>Russia</td>\n",
       "      <td>\\N</td>\n",
       "      <td>ULLK</td>\n",
       "    </tr>\n",
       "    <tr>\n",
       "      <th>14109</th>\n",
       "      <td>Desierto de Atacama Airport</td>\n",
       "      <td>Copiapo</td>\n",
       "      <td>Chile</td>\n",
       "      <td>CPO</td>\n",
       "      <td>SCAT</td>\n",
       "    </tr>\n",
       "    <tr>\n",
       "      <th>14110</th>\n",
       "      <td>Melitopol Air Base</td>\n",
       "      <td>Melitopol</td>\n",
       "      <td>Ukraine</td>\n",
       "      <td>\\N</td>\n",
       "      <td>UKDM</td>\n",
       "    </tr>\n",
       "  </tbody>\n",
       "</table>\n",
       "<p>7698 rows × 5 columns</p>\n",
       "</div>"
      ],
      "text/plain": [
       "                                        Airport_ID          City  \\\n",
       "1                                   Goroka Airport        Goroka   \n",
       "2                                   Madang Airport        Madang   \n",
       "3                     Mount Hagen Kagamuga Airport   Mount Hagen   \n",
       "4                                   Nadzab Airport        Nadzab   \n",
       "5      Port Moresby Jacksons International Airport  Port Moresby   \n",
       "...                                            ...           ...   \n",
       "14106                          Rogachyovo Air Base        Belaya   \n",
       "14107                        Ulan-Ude East Airport      Ulan Ude   \n",
       "14108                         Krechevitsy Air Base      Novgorod   \n",
       "14109                  Desierto de Atacama Airport       Copiapo   \n",
       "14110                           Melitopol Air Base     Melitopol   \n",
       "\n",
       "                Country IATA  ICAO  \n",
       "1      Papua New Guinea  GKA  AYGA  \n",
       "2      Papua New Guinea  MAG  AYMD  \n",
       "3      Papua New Guinea  HGU  AYMH  \n",
       "4      Papua New Guinea  LAE  AYNZ  \n",
       "5      Papua New Guinea  POM  AYPY  \n",
       "...                 ...  ...   ...  \n",
       "14106            Russia   \\N  ULDA  \n",
       "14107            Russia   \\N  XIUW  \n",
       "14108            Russia   \\N  ULLK  \n",
       "14109             Chile  CPO  SCAT  \n",
       "14110           Ukraine   \\N  UKDM  \n",
       "\n",
       "[7698 rows x 5 columns]"
      ]
     },
     "execution_count": 5,
     "metadata": {},
     "output_type": "execute_result"
    }
   ],
   "source": [
    "airport_df=airport_df[['Airport_ID', 'City', 'Country', 'IATA', 'ICAO']]\n",
    "airport_df"
   ]
  },
  {
   "cell_type": "code",
   "execution_count": 6,
   "metadata": {},
   "outputs": [
    {
     "data": {
      "text/plain": [
       "0"
      ]
     },
     "execution_count": 6,
     "metadata": {},
     "output_type": "execute_result"
    }
   ],
   "source": [
    "airport_df['IATA'].isna().sum()"
   ]
  },
  {
   "cell_type": "code",
   "execution_count": 7,
   "metadata": {},
   "outputs": [
    {
     "data": {
      "text/plain": [
       "0"
      ]
     },
     "execution_count": 7,
     "metadata": {},
     "output_type": "execute_result"
    }
   ],
   "source": [
    "routes_df[routes_df['Source_airport'].str.len() == 4]['Source_airport'].count()"
   ]
  },
  {
   "cell_type": "code",
   "execution_count": 8,
   "metadata": {},
   "outputs": [
    {
     "data": {
      "text/plain": [
       "0"
      ]
     },
     "execution_count": 8,
     "metadata": {},
     "output_type": "execute_result"
    }
   ],
   "source": [
    "routes_df[routes_df['Destination_airport'].str.len() == 4]['Destination_airport'].count()"
   ]
  },
  {
   "cell_type": "markdown",
   "metadata": {},
   "source": [
    "First, we will merge routes_df and airport_df on source airport in roues_df and IATA in airport_df. We know that according to documentation, some of airports coded with IATA(3 letters),and some of them are coded with ICAO(4 letter) but as all of them has IATA, i prefer to merge on IATA:"
   ]
  },
  {
   "cell_type": "code",
   "execution_count": 9,
   "metadata": {},
   "outputs": [],
   "source": [
    "routes_df = routes_df.merge(airport_df, how=\"left\", left_on=\"Source_airport\", right_on=\"IATA\")"
   ]
  },
  {
   "cell_type": "code",
   "execution_count": 10,
   "metadata": {},
   "outputs": [
    {
     "data": {
      "text/html": [
       "<div>\n",
       "<style scoped>\n",
       "    .dataframe tbody tr th:only-of-type {\n",
       "        vertical-align: middle;\n",
       "    }\n",
       "\n",
       "    .dataframe tbody tr th {\n",
       "        vertical-align: top;\n",
       "    }\n",
       "\n",
       "    .dataframe thead th {\n",
       "        text-align: right;\n",
       "    }\n",
       "</style>\n",
       "<table border=\"1\" class=\"dataframe\">\n",
       "  <thead>\n",
       "    <tr style=\"text-align: right;\">\n",
       "      <th></th>\n",
       "      <th>Source_airport</th>\n",
       "      <th>Source_airport_ID</th>\n",
       "      <th>Destination_airport</th>\n",
       "      <th>Destination_airport_ID</th>\n",
       "      <th>Stops</th>\n",
       "      <th>Airport_ID</th>\n",
       "      <th>City</th>\n",
       "      <th>Country</th>\n",
       "      <th>IATA</th>\n",
       "      <th>ICAO</th>\n",
       "    </tr>\n",
       "  </thead>\n",
       "  <tbody>\n",
       "    <tr>\n",
       "      <th>0</th>\n",
       "      <td>AER</td>\n",
       "      <td>2965</td>\n",
       "      <td>KZN</td>\n",
       "      <td>2990</td>\n",
       "      <td>0</td>\n",
       "      <td>Sochi International Airport</td>\n",
       "      <td>Sochi</td>\n",
       "      <td>Russia</td>\n",
       "      <td>AER</td>\n",
       "      <td>URSS</td>\n",
       "    </tr>\n",
       "    <tr>\n",
       "      <th>1</th>\n",
       "      <td>ASF</td>\n",
       "      <td>2966</td>\n",
       "      <td>KZN</td>\n",
       "      <td>2990</td>\n",
       "      <td>0</td>\n",
       "      <td>Astrakhan Airport</td>\n",
       "      <td>Astrakhan</td>\n",
       "      <td>Russia</td>\n",
       "      <td>ASF</td>\n",
       "      <td>URWA</td>\n",
       "    </tr>\n",
       "    <tr>\n",
       "      <th>2</th>\n",
       "      <td>ASF</td>\n",
       "      <td>2966</td>\n",
       "      <td>MRV</td>\n",
       "      <td>2962</td>\n",
       "      <td>0</td>\n",
       "      <td>Astrakhan Airport</td>\n",
       "      <td>Astrakhan</td>\n",
       "      <td>Russia</td>\n",
       "      <td>ASF</td>\n",
       "      <td>URWA</td>\n",
       "    </tr>\n",
       "    <tr>\n",
       "      <th>3</th>\n",
       "      <td>CEK</td>\n",
       "      <td>2968</td>\n",
       "      <td>KZN</td>\n",
       "      <td>2990</td>\n",
       "      <td>0</td>\n",
       "      <td>Chelyabinsk Balandino Airport</td>\n",
       "      <td>Chelyabinsk</td>\n",
       "      <td>Russia</td>\n",
       "      <td>CEK</td>\n",
       "      <td>USCC</td>\n",
       "    </tr>\n",
       "    <tr>\n",
       "      <th>4</th>\n",
       "      <td>CEK</td>\n",
       "      <td>2968</td>\n",
       "      <td>OVB</td>\n",
       "      <td>4078</td>\n",
       "      <td>0</td>\n",
       "      <td>Chelyabinsk Balandino Airport</td>\n",
       "      <td>Chelyabinsk</td>\n",
       "      <td>Russia</td>\n",
       "      <td>CEK</td>\n",
       "      <td>USCC</td>\n",
       "    </tr>\n",
       "    <tr>\n",
       "      <th>...</th>\n",
       "      <td>...</td>\n",
       "      <td>...</td>\n",
       "      <td>...</td>\n",
       "      <td>...</td>\n",
       "      <td>...</td>\n",
       "      <td>...</td>\n",
       "      <td>...</td>\n",
       "      <td>...</td>\n",
       "      <td>...</td>\n",
       "      <td>...</td>\n",
       "    </tr>\n",
       "    <tr>\n",
       "      <th>67658</th>\n",
       "      <td>WYA</td>\n",
       "      <td>6334</td>\n",
       "      <td>ADL</td>\n",
       "      <td>3341</td>\n",
       "      <td>0</td>\n",
       "      <td>Whyalla Airport</td>\n",
       "      <td>Whyalla</td>\n",
       "      <td>Australia</td>\n",
       "      <td>WYA</td>\n",
       "      <td>YWHA</td>\n",
       "    </tr>\n",
       "    <tr>\n",
       "      <th>67659</th>\n",
       "      <td>DME</td>\n",
       "      <td>4029</td>\n",
       "      <td>FRU</td>\n",
       "      <td>2912</td>\n",
       "      <td>0</td>\n",
       "      <td>Domodedovo International Airport</td>\n",
       "      <td>Moscow</td>\n",
       "      <td>Russia</td>\n",
       "      <td>DME</td>\n",
       "      <td>UUDD</td>\n",
       "    </tr>\n",
       "    <tr>\n",
       "      <th>67660</th>\n",
       "      <td>FRU</td>\n",
       "      <td>2912</td>\n",
       "      <td>DME</td>\n",
       "      <td>4029</td>\n",
       "      <td>0</td>\n",
       "      <td>Manas International Airport</td>\n",
       "      <td>Bishkek</td>\n",
       "      <td>Kyrgyzstan</td>\n",
       "      <td>FRU</td>\n",
       "      <td>UAFM</td>\n",
       "    </tr>\n",
       "    <tr>\n",
       "      <th>67661</th>\n",
       "      <td>FRU</td>\n",
       "      <td>2912</td>\n",
       "      <td>OSS</td>\n",
       "      <td>2913</td>\n",
       "      <td>0</td>\n",
       "      <td>Manas International Airport</td>\n",
       "      <td>Bishkek</td>\n",
       "      <td>Kyrgyzstan</td>\n",
       "      <td>FRU</td>\n",
       "      <td>UAFM</td>\n",
       "    </tr>\n",
       "    <tr>\n",
       "      <th>67662</th>\n",
       "      <td>OSS</td>\n",
       "      <td>2913</td>\n",
       "      <td>FRU</td>\n",
       "      <td>2912</td>\n",
       "      <td>0</td>\n",
       "      <td>Osh Airport</td>\n",
       "      <td>Osh</td>\n",
       "      <td>Kyrgyzstan</td>\n",
       "      <td>OSS</td>\n",
       "      <td>UAFO</td>\n",
       "    </tr>\n",
       "  </tbody>\n",
       "</table>\n",
       "<p>67663 rows × 10 columns</p>\n",
       "</div>"
      ],
      "text/plain": [
       "      Source_airport Source_airport_ID Destination_airport  \\\n",
       "0                AER              2965                 KZN   \n",
       "1                ASF              2966                 KZN   \n",
       "2                ASF              2966                 MRV   \n",
       "3                CEK              2968                 KZN   \n",
       "4                CEK              2968                 OVB   \n",
       "...              ...               ...                 ...   \n",
       "67658            WYA              6334                 ADL   \n",
       "67659            DME              4029                 FRU   \n",
       "67660            FRU              2912                 DME   \n",
       "67661            FRU              2912                 OSS   \n",
       "67662            OSS              2913                 FRU   \n",
       "\n",
       "      Destination_airport_ID  Stops                        Airport_ID  \\\n",
       "0                       2990      0       Sochi International Airport   \n",
       "1                       2990      0                 Astrakhan Airport   \n",
       "2                       2962      0                 Astrakhan Airport   \n",
       "3                       2990      0     Chelyabinsk Balandino Airport   \n",
       "4                       4078      0     Chelyabinsk Balandino Airport   \n",
       "...                      ...    ...                               ...   \n",
       "67658                   3341      0                   Whyalla Airport   \n",
       "67659                   2912      0  Domodedovo International Airport   \n",
       "67660                   4029      0       Manas International Airport   \n",
       "67661                   2913      0       Manas International Airport   \n",
       "67662                   2912      0                       Osh Airport   \n",
       "\n",
       "              City     Country IATA  ICAO  \n",
       "0            Sochi      Russia  AER  URSS  \n",
       "1        Astrakhan      Russia  ASF  URWA  \n",
       "2        Astrakhan      Russia  ASF  URWA  \n",
       "3      Chelyabinsk      Russia  CEK  USCC  \n",
       "4      Chelyabinsk      Russia  CEK  USCC  \n",
       "...            ...         ...  ...   ...  \n",
       "67658      Whyalla   Australia  WYA  YWHA  \n",
       "67659       Moscow      Russia  DME  UUDD  \n",
       "67660      Bishkek  Kyrgyzstan  FRU  UAFM  \n",
       "67661      Bishkek  Kyrgyzstan  FRU  UAFM  \n",
       "67662          Osh  Kyrgyzstan  OSS  UAFO  \n",
       "\n",
       "[67663 rows x 10 columns]"
      ]
     },
     "execution_count": 10,
     "metadata": {},
     "output_type": "execute_result"
    }
   ],
   "source": [
    "routes_df"
   ]
  },
  {
   "cell_type": "markdown",
   "metadata": {},
   "source": [
    "There are some airports/codes which do not in airports_df, so we will delete that rows:"
   ]
  },
  {
   "cell_type": "code",
   "execution_count": 11,
   "metadata": {},
   "outputs": [
    {
     "data": {
      "text/html": [
       "<div>\n",
       "<style scoped>\n",
       "    .dataframe tbody tr th:only-of-type {\n",
       "        vertical-align: middle;\n",
       "    }\n",
       "\n",
       "    .dataframe tbody tr th {\n",
       "        vertical-align: top;\n",
       "    }\n",
       "\n",
       "    .dataframe thead th {\n",
       "        text-align: right;\n",
       "    }\n",
       "</style>\n",
       "<table border=\"1\" class=\"dataframe\">\n",
       "  <thead>\n",
       "    <tr style=\"text-align: right;\">\n",
       "      <th></th>\n",
       "      <th>Source_airport</th>\n",
       "      <th>Source_airport_ID</th>\n",
       "      <th>Destination_airport</th>\n",
       "      <th>Destination_airport_ID</th>\n",
       "      <th>Stops</th>\n",
       "      <th>Airport_ID</th>\n",
       "      <th>City</th>\n",
       "      <th>Country</th>\n",
       "      <th>IATA</th>\n",
       "      <th>ICAO</th>\n",
       "    </tr>\n",
       "  </thead>\n",
       "  <tbody>\n",
       "    <tr>\n",
       "      <th>175</th>\n",
       "      <td>AOS</td>\n",
       "      <td>7167</td>\n",
       "      <td>KZB</td>\n",
       "      <td>7176</td>\n",
       "      <td>0</td>\n",
       "      <td>NaN</td>\n",
       "      <td>NaN</td>\n",
       "      <td>NaN</td>\n",
       "      <td>NaN</td>\n",
       "      <td>NaN</td>\n",
       "    </tr>\n",
       "    <tr>\n",
       "      <th>176</th>\n",
       "      <td>KKB</td>\n",
       "      <td>7168</td>\n",
       "      <td>SYB</td>\n",
       "      <td>7173</td>\n",
       "      <td>0</td>\n",
       "      <td>NaN</td>\n",
       "      <td>NaN</td>\n",
       "      <td>NaN</td>\n",
       "      <td>NaN</td>\n",
       "      <td>NaN</td>\n",
       "    </tr>\n",
       "    <tr>\n",
       "      <th>178</th>\n",
       "      <td>KOZ</td>\n",
       "      <td>7164</td>\n",
       "      <td>ORI</td>\n",
       "      <td>7165</td>\n",
       "      <td>0</td>\n",
       "      <td>NaN</td>\n",
       "      <td>NaN</td>\n",
       "      <td>NaN</td>\n",
       "      <td>NaN</td>\n",
       "      <td>NaN</td>\n",
       "    </tr>\n",
       "    <tr>\n",
       "      <th>179</th>\n",
       "      <td>SYB</td>\n",
       "      <td>7173</td>\n",
       "      <td>KPR</td>\n",
       "      <td>7172</td>\n",
       "      <td>0</td>\n",
       "      <td>NaN</td>\n",
       "      <td>NaN</td>\n",
       "      <td>NaN</td>\n",
       "      <td>NaN</td>\n",
       "      <td>NaN</td>\n",
       "    </tr>\n",
       "    <tr>\n",
       "      <th>270</th>\n",
       "      <td>CGA</td>\n",
       "      <td>7144</td>\n",
       "      <td>HYL</td>\n",
       "      <td>7145</td>\n",
       "      <td>0</td>\n",
       "      <td>NaN</td>\n",
       "      <td>NaN</td>\n",
       "      <td>NaN</td>\n",
       "      <td>NaN</td>\n",
       "      <td>NaN</td>\n",
       "    </tr>\n",
       "    <tr>\n",
       "      <th>...</th>\n",
       "      <td>...</td>\n",
       "      <td>...</td>\n",
       "      <td>...</td>\n",
       "      <td>...</td>\n",
       "      <td>...</td>\n",
       "      <td>...</td>\n",
       "      <td>...</td>\n",
       "      <td>...</td>\n",
       "      <td>...</td>\n",
       "      <td>...</td>\n",
       "    </tr>\n",
       "    <tr>\n",
       "      <th>67471</th>\n",
       "      <td>MLH</td>\n",
       "      <td>\\N</td>\n",
       "      <td>QSF</td>\n",
       "      <td>6492</td>\n",
       "      <td>0</td>\n",
       "      <td>NaN</td>\n",
       "      <td>NaN</td>\n",
       "      <td>NaN</td>\n",
       "      <td>NaN</td>\n",
       "      <td>NaN</td>\n",
       "    </tr>\n",
       "    <tr>\n",
       "      <th>67537</th>\n",
       "      <td>EAR</td>\n",
       "      <td>6129</td>\n",
       "      <td>DEN</td>\n",
       "      <td>3751</td>\n",
       "      <td>0</td>\n",
       "      <td>NaN</td>\n",
       "      <td>NaN</td>\n",
       "      <td>NaN</td>\n",
       "      <td>NaN</td>\n",
       "      <td>NaN</td>\n",
       "    </tr>\n",
       "    <tr>\n",
       "      <th>67542</th>\n",
       "      <td>IGM</td>\n",
       "      <td>6132</td>\n",
       "      <td>LAX</td>\n",
       "      <td>3484</td>\n",
       "      <td>0</td>\n",
       "      <td>NaN</td>\n",
       "      <td>NaN</td>\n",
       "      <td>NaN</td>\n",
       "      <td>NaN</td>\n",
       "      <td>NaN</td>\n",
       "    </tr>\n",
       "    <tr>\n",
       "      <th>67543</th>\n",
       "      <td>IGM</td>\n",
       "      <td>6132</td>\n",
       "      <td>PGA</td>\n",
       "      <td>4124</td>\n",
       "      <td>0</td>\n",
       "      <td>NaN</td>\n",
       "      <td>NaN</td>\n",
       "      <td>NaN</td>\n",
       "      <td>NaN</td>\n",
       "      <td>NaN</td>\n",
       "    </tr>\n",
       "    <tr>\n",
       "      <th>67568</th>\n",
       "      <td>SVC</td>\n",
       "      <td>6135</td>\n",
       "      <td>PHX</td>\n",
       "      <td>3462</td>\n",
       "      <td>0</td>\n",
       "      <td>NaN</td>\n",
       "      <td>NaN</td>\n",
       "      <td>NaN</td>\n",
       "      <td>NaN</td>\n",
       "      <td>NaN</td>\n",
       "    </tr>\n",
       "  </tbody>\n",
       "</table>\n",
       "<p>406 rows × 10 columns</p>\n",
       "</div>"
      ],
      "text/plain": [
       "      Source_airport Source_airport_ID Destination_airport  \\\n",
       "175              AOS              7167                 KZB   \n",
       "176              KKB              7168                 SYB   \n",
       "178              KOZ              7164                 ORI   \n",
       "179              SYB              7173                 KPR   \n",
       "270              CGA              7144                 HYL   \n",
       "...              ...               ...                 ...   \n",
       "67471            MLH                \\N                 QSF   \n",
       "67537            EAR              6129                 DEN   \n",
       "67542            IGM              6132                 LAX   \n",
       "67543            IGM              6132                 PGA   \n",
       "67568            SVC              6135                 PHX   \n",
       "\n",
       "      Destination_airport_ID  Stops Airport_ID City Country IATA ICAO  \n",
       "175                     7176      0        NaN  NaN     NaN  NaN  NaN  \n",
       "176                     7173      0        NaN  NaN     NaN  NaN  NaN  \n",
       "178                     7165      0        NaN  NaN     NaN  NaN  NaN  \n",
       "179                     7172      0        NaN  NaN     NaN  NaN  NaN  \n",
       "270                     7145      0        NaN  NaN     NaN  NaN  NaN  \n",
       "...                      ...    ...        ...  ...     ...  ...  ...  \n",
       "67471                   6492      0        NaN  NaN     NaN  NaN  NaN  \n",
       "67537                   3751      0        NaN  NaN     NaN  NaN  NaN  \n",
       "67542                   3484      0        NaN  NaN     NaN  NaN  NaN  \n",
       "67543                   4124      0        NaN  NaN     NaN  NaN  NaN  \n",
       "67568                   3462      0        NaN  NaN     NaN  NaN  NaN  \n",
       "\n",
       "[406 rows x 10 columns]"
      ]
     },
     "execution_count": 11,
     "metadata": {},
     "output_type": "execute_result"
    }
   ],
   "source": [
    "routes_df[routes_df['Airport_ID'].isnull()]"
   ]
  },
  {
   "cell_type": "code",
   "execution_count": 12,
   "metadata": {},
   "outputs": [
    {
     "data": {
      "text/html": [
       "<div>\n",
       "<style scoped>\n",
       "    .dataframe tbody tr th:only-of-type {\n",
       "        vertical-align: middle;\n",
       "    }\n",
       "\n",
       "    .dataframe tbody tr th {\n",
       "        vertical-align: top;\n",
       "    }\n",
       "\n",
       "    .dataframe thead th {\n",
       "        text-align: right;\n",
       "    }\n",
       "</style>\n",
       "<table border=\"1\" class=\"dataframe\">\n",
       "  <thead>\n",
       "    <tr style=\"text-align: right;\">\n",
       "      <th></th>\n",
       "      <th>Airport_ID</th>\n",
       "      <th>City</th>\n",
       "      <th>Country</th>\n",
       "      <th>IATA</th>\n",
       "      <th>ICAO</th>\n",
       "    </tr>\n",
       "  </thead>\n",
       "  <tbody>\n",
       "  </tbody>\n",
       "</table>\n",
       "</div>"
      ],
      "text/plain": [
       "Empty DataFrame\n",
       "Columns: [Airport_ID, City, Country, IATA, ICAO]\n",
       "Index: []"
      ]
     },
     "execution_count": 12,
     "metadata": {},
     "output_type": "execute_result"
    }
   ],
   "source": [
    "airport_df[airport_df['IATA'] =='AOS'] # they are not in airports df"
   ]
  },
  {
   "cell_type": "code",
   "execution_count": 13,
   "metadata": {},
   "outputs": [],
   "source": [
    "routes_df = routes_df[~routes_df['Airport_ID'].isnull()]"
   ]
  },
  {
   "cell_type": "code",
   "execution_count": 14,
   "metadata": {},
   "outputs": [
    {
     "data": {
      "text/html": [
       "<div>\n",
       "<style scoped>\n",
       "    .dataframe tbody tr th:only-of-type {\n",
       "        vertical-align: middle;\n",
       "    }\n",
       "\n",
       "    .dataframe tbody tr th {\n",
       "        vertical-align: top;\n",
       "    }\n",
       "\n",
       "    .dataframe thead th {\n",
       "        text-align: right;\n",
       "    }\n",
       "</style>\n",
       "<table border=\"1\" class=\"dataframe\">\n",
       "  <thead>\n",
       "    <tr style=\"text-align: right;\">\n",
       "      <th></th>\n",
       "      <th>Source_airport</th>\n",
       "      <th>Source_airport_ID</th>\n",
       "      <th>Destination_airport</th>\n",
       "      <th>Destination_airport_ID</th>\n",
       "      <th>Stops</th>\n",
       "      <th>Airport_ID</th>\n",
       "      <th>City</th>\n",
       "      <th>Country</th>\n",
       "      <th>IATA</th>\n",
       "      <th>ICAO</th>\n",
       "    </tr>\n",
       "  </thead>\n",
       "  <tbody>\n",
       "    <tr>\n",
       "      <th>0</th>\n",
       "      <td>AER</td>\n",
       "      <td>2965</td>\n",
       "      <td>KZN</td>\n",
       "      <td>2990</td>\n",
       "      <td>0</td>\n",
       "      <td>Sochi International Airport</td>\n",
       "      <td>Sochi</td>\n",
       "      <td>Russia</td>\n",
       "      <td>AER</td>\n",
       "      <td>URSS</td>\n",
       "    </tr>\n",
       "    <tr>\n",
       "      <th>1</th>\n",
       "      <td>ASF</td>\n",
       "      <td>2966</td>\n",
       "      <td>KZN</td>\n",
       "      <td>2990</td>\n",
       "      <td>0</td>\n",
       "      <td>Astrakhan Airport</td>\n",
       "      <td>Astrakhan</td>\n",
       "      <td>Russia</td>\n",
       "      <td>ASF</td>\n",
       "      <td>URWA</td>\n",
       "    </tr>\n",
       "    <tr>\n",
       "      <th>2</th>\n",
       "      <td>ASF</td>\n",
       "      <td>2966</td>\n",
       "      <td>MRV</td>\n",
       "      <td>2962</td>\n",
       "      <td>0</td>\n",
       "      <td>Astrakhan Airport</td>\n",
       "      <td>Astrakhan</td>\n",
       "      <td>Russia</td>\n",
       "      <td>ASF</td>\n",
       "      <td>URWA</td>\n",
       "    </tr>\n",
       "    <tr>\n",
       "      <th>3</th>\n",
       "      <td>CEK</td>\n",
       "      <td>2968</td>\n",
       "      <td>KZN</td>\n",
       "      <td>2990</td>\n",
       "      <td>0</td>\n",
       "      <td>Chelyabinsk Balandino Airport</td>\n",
       "      <td>Chelyabinsk</td>\n",
       "      <td>Russia</td>\n",
       "      <td>CEK</td>\n",
       "      <td>USCC</td>\n",
       "    </tr>\n",
       "    <tr>\n",
       "      <th>4</th>\n",
       "      <td>CEK</td>\n",
       "      <td>2968</td>\n",
       "      <td>OVB</td>\n",
       "      <td>4078</td>\n",
       "      <td>0</td>\n",
       "      <td>Chelyabinsk Balandino Airport</td>\n",
       "      <td>Chelyabinsk</td>\n",
       "      <td>Russia</td>\n",
       "      <td>CEK</td>\n",
       "      <td>USCC</td>\n",
       "    </tr>\n",
       "    <tr>\n",
       "      <th>...</th>\n",
       "      <td>...</td>\n",
       "      <td>...</td>\n",
       "      <td>...</td>\n",
       "      <td>...</td>\n",
       "      <td>...</td>\n",
       "      <td>...</td>\n",
       "      <td>...</td>\n",
       "      <td>...</td>\n",
       "      <td>...</td>\n",
       "      <td>...</td>\n",
       "    </tr>\n",
       "    <tr>\n",
       "      <th>67658</th>\n",
       "      <td>WYA</td>\n",
       "      <td>6334</td>\n",
       "      <td>ADL</td>\n",
       "      <td>3341</td>\n",
       "      <td>0</td>\n",
       "      <td>Whyalla Airport</td>\n",
       "      <td>Whyalla</td>\n",
       "      <td>Australia</td>\n",
       "      <td>WYA</td>\n",
       "      <td>YWHA</td>\n",
       "    </tr>\n",
       "    <tr>\n",
       "      <th>67659</th>\n",
       "      <td>DME</td>\n",
       "      <td>4029</td>\n",
       "      <td>FRU</td>\n",
       "      <td>2912</td>\n",
       "      <td>0</td>\n",
       "      <td>Domodedovo International Airport</td>\n",
       "      <td>Moscow</td>\n",
       "      <td>Russia</td>\n",
       "      <td>DME</td>\n",
       "      <td>UUDD</td>\n",
       "    </tr>\n",
       "    <tr>\n",
       "      <th>67660</th>\n",
       "      <td>FRU</td>\n",
       "      <td>2912</td>\n",
       "      <td>DME</td>\n",
       "      <td>4029</td>\n",
       "      <td>0</td>\n",
       "      <td>Manas International Airport</td>\n",
       "      <td>Bishkek</td>\n",
       "      <td>Kyrgyzstan</td>\n",
       "      <td>FRU</td>\n",
       "      <td>UAFM</td>\n",
       "    </tr>\n",
       "    <tr>\n",
       "      <th>67661</th>\n",
       "      <td>FRU</td>\n",
       "      <td>2912</td>\n",
       "      <td>OSS</td>\n",
       "      <td>2913</td>\n",
       "      <td>0</td>\n",
       "      <td>Manas International Airport</td>\n",
       "      <td>Bishkek</td>\n",
       "      <td>Kyrgyzstan</td>\n",
       "      <td>FRU</td>\n",
       "      <td>UAFM</td>\n",
       "    </tr>\n",
       "    <tr>\n",
       "      <th>67662</th>\n",
       "      <td>OSS</td>\n",
       "      <td>2913</td>\n",
       "      <td>FRU</td>\n",
       "      <td>2912</td>\n",
       "      <td>0</td>\n",
       "      <td>Osh Airport</td>\n",
       "      <td>Osh</td>\n",
       "      <td>Kyrgyzstan</td>\n",
       "      <td>OSS</td>\n",
       "      <td>UAFO</td>\n",
       "    </tr>\n",
       "  </tbody>\n",
       "</table>\n",
       "<p>67257 rows × 10 columns</p>\n",
       "</div>"
      ],
      "text/plain": [
       "      Source_airport Source_airport_ID Destination_airport  \\\n",
       "0                AER              2965                 KZN   \n",
       "1                ASF              2966                 KZN   \n",
       "2                ASF              2966                 MRV   \n",
       "3                CEK              2968                 KZN   \n",
       "4                CEK              2968                 OVB   \n",
       "...              ...               ...                 ...   \n",
       "67658            WYA              6334                 ADL   \n",
       "67659            DME              4029                 FRU   \n",
       "67660            FRU              2912                 DME   \n",
       "67661            FRU              2912                 OSS   \n",
       "67662            OSS              2913                 FRU   \n",
       "\n",
       "      Destination_airport_ID  Stops                        Airport_ID  \\\n",
       "0                       2990      0       Sochi International Airport   \n",
       "1                       2990      0                 Astrakhan Airport   \n",
       "2                       2962      0                 Astrakhan Airport   \n",
       "3                       2990      0     Chelyabinsk Balandino Airport   \n",
       "4                       4078      0     Chelyabinsk Balandino Airport   \n",
       "...                      ...    ...                               ...   \n",
       "67658                   3341      0                   Whyalla Airport   \n",
       "67659                   2912      0  Domodedovo International Airport   \n",
       "67660                   4029      0       Manas International Airport   \n",
       "67661                   2913      0       Manas International Airport   \n",
       "67662                   2912      0                       Osh Airport   \n",
       "\n",
       "              City     Country IATA  ICAO  \n",
       "0            Sochi      Russia  AER  URSS  \n",
       "1        Astrakhan      Russia  ASF  URWA  \n",
       "2        Astrakhan      Russia  ASF  URWA  \n",
       "3      Chelyabinsk      Russia  CEK  USCC  \n",
       "4      Chelyabinsk      Russia  CEK  USCC  \n",
       "...            ...         ...  ...   ...  \n",
       "67658      Whyalla   Australia  WYA  YWHA  \n",
       "67659       Moscow      Russia  DME  UUDD  \n",
       "67660      Bishkek  Kyrgyzstan  FRU  UAFM  \n",
       "67661      Bishkek  Kyrgyzstan  FRU  UAFM  \n",
       "67662          Osh  Kyrgyzstan  OSS  UAFO  \n",
       "\n",
       "[67257 rows x 10 columns]"
      ]
     },
     "execution_count": 14,
     "metadata": {},
     "output_type": "execute_result"
    }
   ],
   "source": [
    "routes_df"
   ]
  },
  {
   "cell_type": "markdown",
   "metadata": {},
   "source": [
    "Now, we will do the same thing for destination airport:"
   ]
  },
  {
   "cell_type": "code",
   "execution_count": 15,
   "metadata": {},
   "outputs": [
    {
     "data": {
      "text/html": [
       "<div>\n",
       "<style scoped>\n",
       "    .dataframe tbody tr th:only-of-type {\n",
       "        vertical-align: middle;\n",
       "    }\n",
       "\n",
       "    .dataframe tbody tr th {\n",
       "        vertical-align: top;\n",
       "    }\n",
       "\n",
       "    .dataframe thead th {\n",
       "        text-align: right;\n",
       "    }\n",
       "</style>\n",
       "<table border=\"1\" class=\"dataframe\">\n",
       "  <thead>\n",
       "    <tr style=\"text-align: right;\">\n",
       "      <th></th>\n",
       "      <th>Source_airport</th>\n",
       "      <th>Source_airport_ID</th>\n",
       "      <th>Destination_airport</th>\n",
       "      <th>Destination_airport_ID</th>\n",
       "      <th>Stops</th>\n",
       "      <th>Airport_ID_x</th>\n",
       "      <th>City_x</th>\n",
       "      <th>Country_x</th>\n",
       "      <th>IATA_x</th>\n",
       "      <th>ICAO_x</th>\n",
       "      <th>Airport_ID_y</th>\n",
       "      <th>City_y</th>\n",
       "      <th>Country_y</th>\n",
       "      <th>IATA_y</th>\n",
       "      <th>ICAO_y</th>\n",
       "    </tr>\n",
       "  </thead>\n",
       "  <tbody>\n",
       "    <tr>\n",
       "      <th>0</th>\n",
       "      <td>AER</td>\n",
       "      <td>2965</td>\n",
       "      <td>KZN</td>\n",
       "      <td>2990</td>\n",
       "      <td>0</td>\n",
       "      <td>Sochi International Airport</td>\n",
       "      <td>Sochi</td>\n",
       "      <td>Russia</td>\n",
       "      <td>AER</td>\n",
       "      <td>URSS</td>\n",
       "      <td>Kazan International Airport</td>\n",
       "      <td>Kazan</td>\n",
       "      <td>Russia</td>\n",
       "      <td>KZN</td>\n",
       "      <td>UWKD</td>\n",
       "    </tr>\n",
       "    <tr>\n",
       "      <th>1</th>\n",
       "      <td>ASF</td>\n",
       "      <td>2966</td>\n",
       "      <td>KZN</td>\n",
       "      <td>2990</td>\n",
       "      <td>0</td>\n",
       "      <td>Astrakhan Airport</td>\n",
       "      <td>Astrakhan</td>\n",
       "      <td>Russia</td>\n",
       "      <td>ASF</td>\n",
       "      <td>URWA</td>\n",
       "      <td>Kazan International Airport</td>\n",
       "      <td>Kazan</td>\n",
       "      <td>Russia</td>\n",
       "      <td>KZN</td>\n",
       "      <td>UWKD</td>\n",
       "    </tr>\n",
       "    <tr>\n",
       "      <th>2</th>\n",
       "      <td>ASF</td>\n",
       "      <td>2966</td>\n",
       "      <td>MRV</td>\n",
       "      <td>2962</td>\n",
       "      <td>0</td>\n",
       "      <td>Astrakhan Airport</td>\n",
       "      <td>Astrakhan</td>\n",
       "      <td>Russia</td>\n",
       "      <td>ASF</td>\n",
       "      <td>URWA</td>\n",
       "      <td>Mineralnyye Vody Airport</td>\n",
       "      <td>Mineralnye Vody</td>\n",
       "      <td>Russia</td>\n",
       "      <td>MRV</td>\n",
       "      <td>URMM</td>\n",
       "    </tr>\n",
       "    <tr>\n",
       "      <th>3</th>\n",
       "      <td>CEK</td>\n",
       "      <td>2968</td>\n",
       "      <td>KZN</td>\n",
       "      <td>2990</td>\n",
       "      <td>0</td>\n",
       "      <td>Chelyabinsk Balandino Airport</td>\n",
       "      <td>Chelyabinsk</td>\n",
       "      <td>Russia</td>\n",
       "      <td>CEK</td>\n",
       "      <td>USCC</td>\n",
       "      <td>Kazan International Airport</td>\n",
       "      <td>Kazan</td>\n",
       "      <td>Russia</td>\n",
       "      <td>KZN</td>\n",
       "      <td>UWKD</td>\n",
       "    </tr>\n",
       "    <tr>\n",
       "      <th>4</th>\n",
       "      <td>CEK</td>\n",
       "      <td>2968</td>\n",
       "      <td>OVB</td>\n",
       "      <td>4078</td>\n",
       "      <td>0</td>\n",
       "      <td>Chelyabinsk Balandino Airport</td>\n",
       "      <td>Chelyabinsk</td>\n",
       "      <td>Russia</td>\n",
       "      <td>CEK</td>\n",
       "      <td>USCC</td>\n",
       "      <td>Tolmachevo Airport</td>\n",
       "      <td>Novosibirsk</td>\n",
       "      <td>Russia</td>\n",
       "      <td>OVB</td>\n",
       "      <td>UNNT</td>\n",
       "    </tr>\n",
       "    <tr>\n",
       "      <th>...</th>\n",
       "      <td>...</td>\n",
       "      <td>...</td>\n",
       "      <td>...</td>\n",
       "      <td>...</td>\n",
       "      <td>...</td>\n",
       "      <td>...</td>\n",
       "      <td>...</td>\n",
       "      <td>...</td>\n",
       "      <td>...</td>\n",
       "      <td>...</td>\n",
       "      <td>...</td>\n",
       "      <td>...</td>\n",
       "      <td>...</td>\n",
       "      <td>...</td>\n",
       "      <td>...</td>\n",
       "    </tr>\n",
       "    <tr>\n",
       "      <th>67252</th>\n",
       "      <td>WYA</td>\n",
       "      <td>6334</td>\n",
       "      <td>ADL</td>\n",
       "      <td>3341</td>\n",
       "      <td>0</td>\n",
       "      <td>Whyalla Airport</td>\n",
       "      <td>Whyalla</td>\n",
       "      <td>Australia</td>\n",
       "      <td>WYA</td>\n",
       "      <td>YWHA</td>\n",
       "      <td>Adelaide International Airport</td>\n",
       "      <td>Adelaide</td>\n",
       "      <td>Australia</td>\n",
       "      <td>ADL</td>\n",
       "      <td>YPAD</td>\n",
       "    </tr>\n",
       "    <tr>\n",
       "      <th>67253</th>\n",
       "      <td>DME</td>\n",
       "      <td>4029</td>\n",
       "      <td>FRU</td>\n",
       "      <td>2912</td>\n",
       "      <td>0</td>\n",
       "      <td>Domodedovo International Airport</td>\n",
       "      <td>Moscow</td>\n",
       "      <td>Russia</td>\n",
       "      <td>DME</td>\n",
       "      <td>UUDD</td>\n",
       "      <td>Manas International Airport</td>\n",
       "      <td>Bishkek</td>\n",
       "      <td>Kyrgyzstan</td>\n",
       "      <td>FRU</td>\n",
       "      <td>UAFM</td>\n",
       "    </tr>\n",
       "    <tr>\n",
       "      <th>67254</th>\n",
       "      <td>FRU</td>\n",
       "      <td>2912</td>\n",
       "      <td>DME</td>\n",
       "      <td>4029</td>\n",
       "      <td>0</td>\n",
       "      <td>Manas International Airport</td>\n",
       "      <td>Bishkek</td>\n",
       "      <td>Kyrgyzstan</td>\n",
       "      <td>FRU</td>\n",
       "      <td>UAFM</td>\n",
       "      <td>Domodedovo International Airport</td>\n",
       "      <td>Moscow</td>\n",
       "      <td>Russia</td>\n",
       "      <td>DME</td>\n",
       "      <td>UUDD</td>\n",
       "    </tr>\n",
       "    <tr>\n",
       "      <th>67255</th>\n",
       "      <td>FRU</td>\n",
       "      <td>2912</td>\n",
       "      <td>OSS</td>\n",
       "      <td>2913</td>\n",
       "      <td>0</td>\n",
       "      <td>Manas International Airport</td>\n",
       "      <td>Bishkek</td>\n",
       "      <td>Kyrgyzstan</td>\n",
       "      <td>FRU</td>\n",
       "      <td>UAFM</td>\n",
       "      <td>Osh Airport</td>\n",
       "      <td>Osh</td>\n",
       "      <td>Kyrgyzstan</td>\n",
       "      <td>OSS</td>\n",
       "      <td>UAFO</td>\n",
       "    </tr>\n",
       "    <tr>\n",
       "      <th>67256</th>\n",
       "      <td>OSS</td>\n",
       "      <td>2913</td>\n",
       "      <td>FRU</td>\n",
       "      <td>2912</td>\n",
       "      <td>0</td>\n",
       "      <td>Osh Airport</td>\n",
       "      <td>Osh</td>\n",
       "      <td>Kyrgyzstan</td>\n",
       "      <td>OSS</td>\n",
       "      <td>UAFO</td>\n",
       "      <td>Manas International Airport</td>\n",
       "      <td>Bishkek</td>\n",
       "      <td>Kyrgyzstan</td>\n",
       "      <td>FRU</td>\n",
       "      <td>UAFM</td>\n",
       "    </tr>\n",
       "  </tbody>\n",
       "</table>\n",
       "<p>67257 rows × 15 columns</p>\n",
       "</div>"
      ],
      "text/plain": [
       "      Source_airport Source_airport_ID Destination_airport  \\\n",
       "0                AER              2965                 KZN   \n",
       "1                ASF              2966                 KZN   \n",
       "2                ASF              2966                 MRV   \n",
       "3                CEK              2968                 KZN   \n",
       "4                CEK              2968                 OVB   \n",
       "...              ...               ...                 ...   \n",
       "67252            WYA              6334                 ADL   \n",
       "67253            DME              4029                 FRU   \n",
       "67254            FRU              2912                 DME   \n",
       "67255            FRU              2912                 OSS   \n",
       "67256            OSS              2913                 FRU   \n",
       "\n",
       "      Destination_airport_ID  Stops                      Airport_ID_x  \\\n",
       "0                       2990      0       Sochi International Airport   \n",
       "1                       2990      0                 Astrakhan Airport   \n",
       "2                       2962      0                 Astrakhan Airport   \n",
       "3                       2990      0     Chelyabinsk Balandino Airport   \n",
       "4                       4078      0     Chelyabinsk Balandino Airport   \n",
       "...                      ...    ...                               ...   \n",
       "67252                   3341      0                   Whyalla Airport   \n",
       "67253                   2912      0  Domodedovo International Airport   \n",
       "67254                   4029      0       Manas International Airport   \n",
       "67255                   2913      0       Manas International Airport   \n",
       "67256                   2912      0                       Osh Airport   \n",
       "\n",
       "            City_x   Country_x IATA_x ICAO_x  \\\n",
       "0            Sochi      Russia    AER   URSS   \n",
       "1        Astrakhan      Russia    ASF   URWA   \n",
       "2        Astrakhan      Russia    ASF   URWA   \n",
       "3      Chelyabinsk      Russia    CEK   USCC   \n",
       "4      Chelyabinsk      Russia    CEK   USCC   \n",
       "...            ...         ...    ...    ...   \n",
       "67252      Whyalla   Australia    WYA   YWHA   \n",
       "67253       Moscow      Russia    DME   UUDD   \n",
       "67254      Bishkek  Kyrgyzstan    FRU   UAFM   \n",
       "67255      Bishkek  Kyrgyzstan    FRU   UAFM   \n",
       "67256          Osh  Kyrgyzstan    OSS   UAFO   \n",
       "\n",
       "                           Airport_ID_y           City_y   Country_y IATA_y  \\\n",
       "0           Kazan International Airport            Kazan      Russia    KZN   \n",
       "1           Kazan International Airport            Kazan      Russia    KZN   \n",
       "2              Mineralnyye Vody Airport  Mineralnye Vody      Russia    MRV   \n",
       "3           Kazan International Airport            Kazan      Russia    KZN   \n",
       "4                    Tolmachevo Airport      Novosibirsk      Russia    OVB   \n",
       "...                                 ...              ...         ...    ...   \n",
       "67252    Adelaide International Airport         Adelaide   Australia    ADL   \n",
       "67253       Manas International Airport          Bishkek  Kyrgyzstan    FRU   \n",
       "67254  Domodedovo International Airport           Moscow      Russia    DME   \n",
       "67255                       Osh Airport              Osh  Kyrgyzstan    OSS   \n",
       "67256       Manas International Airport          Bishkek  Kyrgyzstan    FRU   \n",
       "\n",
       "      ICAO_y  \n",
       "0       UWKD  \n",
       "1       UWKD  \n",
       "2       URMM  \n",
       "3       UWKD  \n",
       "4       UNNT  \n",
       "...      ...  \n",
       "67252   YPAD  \n",
       "67253   UAFM  \n",
       "67254   UUDD  \n",
       "67255   UAFO  \n",
       "67256   UAFM  \n",
       "\n",
       "[67257 rows x 15 columns]"
      ]
     },
     "execution_count": 15,
     "metadata": {},
     "output_type": "execute_result"
    }
   ],
   "source": [
    "routes_df = routes_df.merge(airport_df, how=\"left\", left_on=\"Destination_airport\", right_on=\"IATA\")\n",
    "routes_df"
   ]
  },
  {
   "cell_type": "code",
   "execution_count": 16,
   "metadata": {},
   "outputs": [
    {
     "data": {
      "text/html": [
       "<div>\n",
       "<style scoped>\n",
       "    .dataframe tbody tr th:only-of-type {\n",
       "        vertical-align: middle;\n",
       "    }\n",
       "\n",
       "    .dataframe tbody tr th {\n",
       "        vertical-align: top;\n",
       "    }\n",
       "\n",
       "    .dataframe thead th {\n",
       "        text-align: right;\n",
       "    }\n",
       "</style>\n",
       "<table border=\"1\" class=\"dataframe\">\n",
       "  <thead>\n",
       "    <tr style=\"text-align: right;\">\n",
       "      <th></th>\n",
       "      <th>Airport_ID</th>\n",
       "      <th>City</th>\n",
       "      <th>Country</th>\n",
       "      <th>IATA</th>\n",
       "      <th>ICAO</th>\n",
       "    </tr>\n",
       "  </thead>\n",
       "  <tbody>\n",
       "  </tbody>\n",
       "</table>\n",
       "</div>"
      ],
      "text/plain": [
       "Empty DataFrame\n",
       "Columns: [Airport_ID, City, Country, IATA, ICAO]\n",
       "Index: []"
      ]
     },
     "execution_count": 16,
     "metadata": {},
     "output_type": "execute_result"
    }
   ],
   "source": [
    "airport_df[airport_df['Airport_ID']=='FRU']"
   ]
  },
  {
   "cell_type": "code",
   "execution_count": 17,
   "metadata": {},
   "outputs": [],
   "source": [
    "routes_df = routes_df[~routes_df['Airport_ID_y'].isnull()]"
   ]
  },
  {
   "cell_type": "markdown",
   "metadata": {},
   "source": [
    "We will take only necessary columns, and rename them:"
   ]
  },
  {
   "cell_type": "code",
   "execution_count": 18,
   "metadata": {},
   "outputs": [
    {
     "data": {
      "text/html": [
       "<div>\n",
       "<style scoped>\n",
       "    .dataframe tbody tr th:only-of-type {\n",
       "        vertical-align: middle;\n",
       "    }\n",
       "\n",
       "    .dataframe tbody tr th {\n",
       "        vertical-align: top;\n",
       "    }\n",
       "\n",
       "    .dataframe thead th {\n",
       "        text-align: right;\n",
       "    }\n",
       "</style>\n",
       "<table border=\"1\" class=\"dataframe\">\n",
       "  <thead>\n",
       "    <tr style=\"text-align: right;\">\n",
       "      <th></th>\n",
       "      <th>Airport_ID_x</th>\n",
       "      <th>City_x</th>\n",
       "      <th>Airport_ID_y</th>\n",
       "      <th>City_y</th>\n",
       "    </tr>\n",
       "  </thead>\n",
       "  <tbody>\n",
       "    <tr>\n",
       "      <th>0</th>\n",
       "      <td>Sochi International Airport</td>\n",
       "      <td>Sochi</td>\n",
       "      <td>Kazan International Airport</td>\n",
       "      <td>Kazan</td>\n",
       "    </tr>\n",
       "    <tr>\n",
       "      <th>1</th>\n",
       "      <td>Astrakhan Airport</td>\n",
       "      <td>Astrakhan</td>\n",
       "      <td>Kazan International Airport</td>\n",
       "      <td>Kazan</td>\n",
       "    </tr>\n",
       "    <tr>\n",
       "      <th>2</th>\n",
       "      <td>Astrakhan Airport</td>\n",
       "      <td>Astrakhan</td>\n",
       "      <td>Mineralnyye Vody Airport</td>\n",
       "      <td>Mineralnye Vody</td>\n",
       "    </tr>\n",
       "    <tr>\n",
       "      <th>3</th>\n",
       "      <td>Chelyabinsk Balandino Airport</td>\n",
       "      <td>Chelyabinsk</td>\n",
       "      <td>Kazan International Airport</td>\n",
       "      <td>Kazan</td>\n",
       "    </tr>\n",
       "    <tr>\n",
       "      <th>4</th>\n",
       "      <td>Chelyabinsk Balandino Airport</td>\n",
       "      <td>Chelyabinsk</td>\n",
       "      <td>Tolmachevo Airport</td>\n",
       "      <td>Novosibirsk</td>\n",
       "    </tr>\n",
       "    <tr>\n",
       "      <th>...</th>\n",
       "      <td>...</td>\n",
       "      <td>...</td>\n",
       "      <td>...</td>\n",
       "      <td>...</td>\n",
       "    </tr>\n",
       "    <tr>\n",
       "      <th>67252</th>\n",
       "      <td>Whyalla Airport</td>\n",
       "      <td>Whyalla</td>\n",
       "      <td>Adelaide International Airport</td>\n",
       "      <td>Adelaide</td>\n",
       "    </tr>\n",
       "    <tr>\n",
       "      <th>67253</th>\n",
       "      <td>Domodedovo International Airport</td>\n",
       "      <td>Moscow</td>\n",
       "      <td>Manas International Airport</td>\n",
       "      <td>Bishkek</td>\n",
       "    </tr>\n",
       "    <tr>\n",
       "      <th>67254</th>\n",
       "      <td>Manas International Airport</td>\n",
       "      <td>Bishkek</td>\n",
       "      <td>Domodedovo International Airport</td>\n",
       "      <td>Moscow</td>\n",
       "    </tr>\n",
       "    <tr>\n",
       "      <th>67255</th>\n",
       "      <td>Manas International Airport</td>\n",
       "      <td>Bishkek</td>\n",
       "      <td>Osh Airport</td>\n",
       "      <td>Osh</td>\n",
       "    </tr>\n",
       "    <tr>\n",
       "      <th>67256</th>\n",
       "      <td>Osh Airport</td>\n",
       "      <td>Osh</td>\n",
       "      <td>Manas International Airport</td>\n",
       "      <td>Bishkek</td>\n",
       "    </tr>\n",
       "  </tbody>\n",
       "</table>\n",
       "<p>66934 rows × 4 columns</p>\n",
       "</div>"
      ],
      "text/plain": [
       "                           Airport_ID_x       City_x  \\\n",
       "0           Sochi International Airport        Sochi   \n",
       "1                     Astrakhan Airport    Astrakhan   \n",
       "2                     Astrakhan Airport    Astrakhan   \n",
       "3         Chelyabinsk Balandino Airport  Chelyabinsk   \n",
       "4         Chelyabinsk Balandino Airport  Chelyabinsk   \n",
       "...                                 ...          ...   \n",
       "67252                   Whyalla Airport      Whyalla   \n",
       "67253  Domodedovo International Airport       Moscow   \n",
       "67254       Manas International Airport      Bishkek   \n",
       "67255       Manas International Airport      Bishkek   \n",
       "67256                       Osh Airport          Osh   \n",
       "\n",
       "                           Airport_ID_y           City_y  \n",
       "0           Kazan International Airport            Kazan  \n",
       "1           Kazan International Airport            Kazan  \n",
       "2              Mineralnyye Vody Airport  Mineralnye Vody  \n",
       "3           Kazan International Airport            Kazan  \n",
       "4                    Tolmachevo Airport      Novosibirsk  \n",
       "...                                 ...              ...  \n",
       "67252    Adelaide International Airport         Adelaide  \n",
       "67253       Manas International Airport          Bishkek  \n",
       "67254  Domodedovo International Airport           Moscow  \n",
       "67255                       Osh Airport              Osh  \n",
       "67256       Manas International Airport          Bishkek  \n",
       "\n",
       "[66934 rows x 4 columns]"
      ]
     },
     "execution_count": 18,
     "metadata": {},
     "output_type": "execute_result"
    }
   ],
   "source": [
    "final_df = routes_df[['Airport_ID_x', 'City_x', 'Airport_ID_y', 'City_y']]\n",
    "final_df"
   ]
  },
  {
   "cell_type": "code",
   "execution_count": 19,
   "metadata": {},
   "outputs": [
    {
     "name": "stderr",
     "output_type": "stream",
     "text": [
      "C:\\Users\\user\\AppData\\Local\\Temp\\ipykernel_10636\\3596183498.py:1: SettingWithCopyWarning: \n",
      "A value is trying to be set on a copy of a slice from a DataFrame\n",
      "\n",
      "See the caveats in the documentation: https://pandas.pydata.org/pandas-docs/stable/user_guide/indexing.html#returning-a-view-versus-a-copy\n",
      "  final_df.rename(columns = {'Airport_ID_x':'Source_airport','City_x':'Source_City','Airport_ID_y':'Destination_airport','City_y':'Destination_City'},inplace=True)\n"
     ]
    }
   ],
   "source": [
    "final_df.rename(columns = {'Airport_ID_x':'Source_airport','City_x':'Source_City','Airport_ID_y':'Destination_airport','City_y':'Destination_City'},inplace=True)"
   ]
  },
  {
   "cell_type": "code",
   "execution_count": 20,
   "metadata": {},
   "outputs": [
    {
     "data": {
      "text/plain": [
       "Source_airport         0\n",
       "Source_City            2\n",
       "Destination_airport    0\n",
       "Destination_City       2\n",
       "dtype: int64"
      ]
     },
     "execution_count": 20,
     "metadata": {},
     "output_type": "execute_result"
    }
   ],
   "source": [
    "final_df.isnull().sum()"
   ]
  },
  {
   "cell_type": "markdown",
   "metadata": {},
   "source": [
    "As we will create graph, based on cities, we will drop empty rows:"
   ]
  },
  {
   "cell_type": "code",
   "execution_count": 21,
   "metadata": {},
   "outputs": [],
   "source": [
    "final_df=final_df.drop(final_df[final_df['Source_City'].isnull()].index)\n",
    "final_df=final_df.drop(final_df[final_df['Destination_City'].isnull()].index)\n"
   ]
  },
  {
   "cell_type": "code",
   "execution_count": 22,
   "metadata": {},
   "outputs": [
    {
     "data": {
      "text/plain": [
       "Source_airport         0\n",
       "Source_City            0\n",
       "Destination_airport    0\n",
       "Destination_City       0\n",
       "dtype: int64"
      ]
     },
     "execution_count": 22,
     "metadata": {},
     "output_type": "execute_result"
    }
   ],
   "source": [
    "final_df.isna().sum()"
   ]
  },
  {
   "cell_type": "markdown",
   "metadata": {},
   "source": [
    "Now, first we will create edges, and then define the graph:"
   ]
  },
  {
   "cell_type": "code",
   "execution_count": 23,
   "metadata": {},
   "outputs": [],
   "source": [
    "edges = list(zip(final_df['Source_City'], final_df['Destination_City']))"
   ]
  },
  {
   "cell_type": "code",
   "execution_count": 24,
   "metadata": {},
   "outputs": [],
   "source": [
    "G_city = nx.from_edgelist(set(edges))"
   ]
  },
  {
   "cell_type": "markdown",
   "metadata": {},
   "source": [
    "We will find the flight routes with the minimal number of stops for the following source and target cities:\n",
    "\n",
    "* From Adana (Turkey) to Auckland (New Zealand)\n",
    "* From Ankara (Turkey) to Kona (Hawaii, USA)\n",
    "* From Sydney (Australia) to Churchhill (Canada)\n",
    "\n",
    "Generally speaking, we will find a shortest path in the graph. Thus, i defined a function for this process:"
   ]
  },
  {
   "cell_type": "code",
   "execution_count": 25,
   "metadata": {},
   "outputs": [],
   "source": [
    "def find_shortest_path(g,s,t):\n",
    "    shortest_path = nx.shortest_path(g, source=s, target=t)\n",
    "    return shortest_path"
   ]
  },
  {
   "cell_type": "code",
   "execution_count": 26,
   "metadata": {},
   "outputs": [
    {
     "name": "stdout",
     "output_type": "stream",
     "text": [
      "Shortest path between  Adana and Auckland : ['Adana', 'Jeddah', 'Los Angeles', 'Auckland']\n",
      "Shortest path between  Ankara and Kona : ['Ankara', 'Munich', 'Los Angeles', 'Kona']\n",
      "Shortest path between  Sydney and Churchill : ['Sydney', 'Toronto', 'Winnipeg', 'Churchill']\n"
     ]
    }
   ],
   "source": [
    "paths=[['Adana','Auckland'],['Ankara','Kona'],['Sydney','Churchill']]\n",
    "shortest_paths = [find_shortest_path(G_city,pair[0],pair[1]) for pair in paths]\n",
    "for path, pair in zip(shortest_paths, paths):\n",
    "    source, target = pair[0], pair[1]\n",
    "    print(f\"Shortest path between  {source} and {target} : {path}\")"
   ]
  },
  {
   "cell_type": "markdown",
   "metadata": {},
   "source": [
    "Finally, we will find the top 10 cities that are important for the global flight network, by using the Page Rank Algorithm :"
   ]
  },
  {
   "cell_type": "code",
   "execution_count": 27,
   "metadata": {},
   "outputs": [
    {
     "name": "stdout",
     "output_type": "stream",
     "text": [
      "Top 10 cities important for the global flight network:\n",
      "1. London: PageRank Score - 0.006337402865762117\n",
      "2. Moscow: PageRank Score - 0.0061763921469385205\n",
      "3. Paris: PageRank Score - 0.005569215499026185\n",
      "4. Istanbul: PageRank Score - 0.005328465704670044\n",
      "5. Atlanta: PageRank Score - 0.004694651978335464\n",
      "6. Chicago: PageRank Score - 0.004628672052045807\n",
      "7. Denver: PageRank Score - 0.004457030729019319\n",
      "8. Dallas-Fort Worth: PageRank Score - 0.004439269834907623\n",
      "9. Beijing: PageRank Score - 0.004412097366113179\n",
      "10. Amsterdam: PageRank Score - 0.0043333666753892185\n"
     ]
    }
   ],
   "source": [
    "pagerank = nx.pagerank(G_city)\n",
    "\n",
    "top_10_cities = sorted(pagerank, key=pagerank.get, reverse=True)[:10]# Sort the cities based on their PageRank scores and get the top 10 cities\n",
    "\n",
    "print(\"Top 10 cities important for the global flight network:\")# Display the top 10 cities\n",
    "for i, city in enumerate(top_10_cities, start=1):\n",
    "    print(f\"{i}. {city}: PageRank Score - {pagerank[city]}\")"
   ]
  },
  {
   "cell_type": "code",
   "execution_count": null,
   "metadata": {},
   "outputs": [],
   "source": []
  }
 ],
 "metadata": {
  "kernelspec": {
   "display_name": "Python 3 (ipykernel)",
   "language": "python",
   "name": "python3"
  },
  "language_info": {
   "codemirror_mode": {
    "name": "ipython",
    "version": 3
   },
   "file_extension": ".py",
   "mimetype": "text/x-python",
   "name": "python",
   "nbconvert_exporter": "python",
   "pygments_lexer": "ipython3",
   "version": "3.10.5"
  }
 },
 "nbformat": 4,
 "nbformat_minor": 4
}
